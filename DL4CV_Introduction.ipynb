{
  "nbformat": 4,
  "nbformat_minor": 0,
  "metadata": {
    "colab": {
      "name": "DL4CV Introduction.ipynb",
      "version": "0.3.2",
      "provenance": [],
      "include_colab_link": true
    },
    "kernelspec": {
      "name": "python3",
      "display_name": "Python 3"
    },
    "accelerator": "GPU"
  },
  "cells": [
    {
      "cell_type": "markdown",
      "metadata": {
        "id": "view-in-github",
        "colab_type": "text"
      },
      "source": [
        "<a href=\"https://colab.research.google.com/github/oziris/DL4CV/blob/master/DL4CV_Introduction.ipynb\" target=\"_parent\"><img src=\"https://colab.research.google.com/assets/colab-badge.svg\" alt=\"Open In Colab\"/></a>"
      ]
    },
    {
      "metadata": {
        "id": "JKXonRk1rkJQ",
        "colab_type": "code",
        "colab": {}
      },
      "cell_type": "code",
      "source": [
        "%matplotlib inline\n",
        "\n",
        "import matplotlib.pyplot as plt\n",
        "import numpy as np"
      ],
      "execution_count": 0,
      "outputs": []
    },
    {
      "metadata": {
        "id": "oieqFTNWwFkx",
        "colab_type": "code",
        "colab": {}
      },
      "cell_type": "code",
      "source": [
        "def ReLU(x):\n",
        "  return np.maximum(0,x)"
      ],
      "execution_count": 0,
      "outputs": []
    },
    {
      "metadata": {
        "id": "aIFz4lyjuv0n",
        "colab_type": "text"
      },
      "cell_type": "markdown",
      "source": [
        "### Nand Gate"
      ]
    },
    {
      "metadata": {
        "id": "zWlj9YEziTYJ",
        "colab_type": "code",
        "outputId": "54253e68-b8c7-4295-e547-65c3bc270110",
        "colab": {
          "base_uri": "https://localhost:8080/",
          "height": 136
        }
      },
      "cell_type": "code",
      "source": [
        "b = 3\n",
        "w1 = -2\n",
        "w2 = -2 \n",
        "w = np.array([[w1, w2]])\n",
        "x0 = np.array([[0, 0, 1, 1]])\n",
        "x1 = np.array([[0, 1, 0, 1]])\n",
        "x = np.concatenate((x0, x1), axis=0)\n",
        "\n",
        "print(\"w:\\n\", w)\n",
        "print(\"b:\\n\", b)\n",
        "print(\"x:\\n\", x)"
      ],
      "execution_count": 0,
      "outputs": [
        {
          "output_type": "stream",
          "text": [
            "w:\n",
            " [[-2 -2]]\n",
            "b:\n",
            " 3\n",
            "x:\n",
            " [[0 0 1 1]\n",
            " [0 1 0 1]]\n"
          ],
          "name": "stdout"
        }
      ]
    },
    {
      "metadata": {
        "id": "VbQtP2NOrRF_",
        "colab_type": "code",
        "outputId": "92981db9-977d-4bbf-fe95-6fea295bdbf1",
        "colab": {
          "base_uri": "https://localhost:8080/",
          "height": 136
        }
      },
      "cell_type": "code",
      "source": [
        ""
      ],
      "execution_count": 0,
      "outputs": [
        {
          "output_type": "stream",
          "text": [
            "w:\n",
            " [[-2 -2]]\n",
            "b:\n",
            " 3\n",
            "x:\n",
            " [[0 0 1 1]\n",
            " [0 1 0 1]]\n"
          ],
          "name": "stdout"
        }
      ]
    },
    {
      "metadata": {
        "id": "U3gi4rIPruFR",
        "colab_type": "code",
        "colab": {}
      },
      "cell_type": "code",
      "source": [
        "def f(w,b,x):\n",
        "  return w.dot(x) + b"
      ],
      "execution_count": 0,
      "outputs": []
    },
    {
      "metadata": {
        "id": "Ev_dvJQ5tE1g",
        "colab_type": "code",
        "outputId": "5d524389-06dc-4ebf-ac05-09b0b794b3fe",
        "colab": {
          "base_uri": "https://localhost:8080/",
          "height": 102
        }
      },
      "cell_type": "code",
      "source": [
        "output = f(w,b,x) \n",
        "nand = 1 * (output > 0)\n",
        "\n",
        "print(\"x0 x1 |  f | nand\")\n",
        "for e1, e2, o, r in zip(x0.T,x1.T,output.T,nand.T):\n",
        "  print(\"{0:2d} {1:2d} | {2:2d} | {3:2d}\".format(np.asscalar(e1),np.asscalar(e2),np.asscalar(o),np.asscalar(r)))\n",
        "  "
      ],
      "execution_count": 0,
      "outputs": [
        {
          "output_type": "stream",
          "text": [
            "x0 x1 |  f | nand\n",
            " 0  0 |  3 |  1\n",
            " 0  1 |  1 |  1\n",
            " 1  0 |  1 |  1\n",
            " 1  1 | -1 |  0\n"
          ],
          "name": "stdout"
        }
      ]
    },
    {
      "metadata": {
        "id": "S7fq5VL0aWHj",
        "colab_type": "code",
        "outputId": "e3b6c0fd-5849-4611-d60a-6246c4ad5c98",
        "colab": {
          "base_uri": "https://localhost:8080/",
          "height": 265
        }
      },
      "cell_type": "code",
      "source": [
        "\n",
        "\n",
        "m = [0, 1.5]\n",
        "n = [1.5, 0]\n",
        "plt.plot(m,n, '--', color='black', linewidth=2.0)\n",
        "plt.plot(x0[nand==1], x1[nand==1], 'ro')\n",
        "plt.plot(x0[nand==0], x1[nand==0], 'bX')\n",
        "plt.axis([-0.25, 2.0, -0.25, 2.0])\n",
        "plt.axis('equal')\n",
        "plt.axhline(0, color='black', linewidth=1.0)\n",
        "plt.axvline(0, color='black', linewidth=1.0)\n",
        "plt.show()"
      ],
      "execution_count": 0,
      "outputs": [
        {
          "output_type": "display_data",
          "data": {
            "image/png": "[encoded data removed]",
            "text/plain": [
              "<Figure size 432x288 with 1 Axes>"
            ]
          },
          "metadata": {
            "tags": []
          }
        }
      ]
    },
    {
      "metadata": {
        "id": "e7J8eprNtZrZ",
        "colab_type": "text"
      },
      "cell_type": "markdown",
      "source": [
        "### XOR Gate"
      ]
    },
    {
      "metadata": {
        "id": "Y-rw-9Zjtee4",
        "colab_type": "code",
        "outputId": "6dc78638-f09b-4f21-edcd-177fa2c14974",
        "colab": {
          "base_uri": "https://localhost:8080/",
          "height": 238
        }
      },
      "cell_type": "code",
      "source": [
        "w1 = np.array([[1, 1],[1, 1]])\n",
        "b1 = np.array([[0],[-1]])\n",
        "w2 = np.array([[1, -2]])\n",
        "b2 = 0\n",
        "\n",
        "print(\"w1:\\n\", w1)\n",
        "print(\"b1:\\n\", b1)\n",
        "print(\"w2:\\n\", w2)\n",
        "print(\"b2:\\n\", b2)\n",
        "print(\"x:\\n\", x)"
      ],
      "execution_count": 0,
      "outputs": [
        {
          "output_type": "stream",
          "text": [
            "w1:\n",
            " [[1 1]\n",
            " [1 1]]\n",
            "b1:\n",
            " [[ 0]\n",
            " [-1]]\n",
            "w2:\n",
            " [[ 1 -2]]\n",
            "b2:\n",
            " 0\n",
            "x:\n",
            " [[0 0 1 1]\n",
            " [0 1 0 1]]\n"
          ],
          "name": "stdout"
        }
      ]
    },
    {
      "metadata": {
        "id": "JSot62mvvZf1",
        "colab_type": "code",
        "outputId": "356f0eef-d826-4fce-8924-3527b7cde2dd",
        "colab": {
          "base_uri": "https://localhost:8080/",
          "height": 102
        }
      },
      "cell_type": "code",
      "source": [
        "h = ReLU(f(w1,b1,x))\n",
        "print(\"h:\\n\",h)\n",
        "\n",
        "q = ReLU(f(w2,b2,h))\n",
        "print(\"q:\\n\",q)"
      ],
      "execution_count": 0,
      "outputs": [
        {
          "output_type": "stream",
          "text": [
            "h:\n",
            " [[0 1 1 2]\n",
            " [0 0 0 1]]\n",
            "q:\n",
            " [[0 1 1 0]]\n"
          ],
          "name": "stdout"
        }
      ]
    },
    {
      "metadata": {
        "id": "WteHu0rtwDoz",
        "colab_type": "code",
        "outputId": "d899b699-f4ba-4eb8-f5d7-3e6ee0380377",
        "colab": {
          "base_uri": "https://localhost:8080/",
          "height": 265
        }
      },
      "cell_type": "code",
      "source": [
        "plt.plot(x0[q==1], x1[q==1], 'ro')\n",
        "plt.plot(x0[q==0], x1[q==0], 'bX')\n",
        "plt.axis([-0.25, 2.0, -0.25, 2.0])\n",
        "plt.axis('equal')\n",
        "plt.axhline(0, color='black', linewidth=1.0)\n",
        "plt.axvline(0, color='black', linewidth=1.0)\n",
        "plt.show()"
      ],
      "execution_count": 0,
      "outputs": [
        {
          "output_type": "display_data",
          "data": {
            "image/png": "[encoded data removed]",
            "text/plain": [
              "<Figure size 432x288 with 1 Axes>"
            ]
          },
          "metadata": {
            "tags": []
          }
        }
      ]
    },
    {
      "metadata": {
        "id": "LukLTFYMAlVV",
        "colab_type": "code",
        "outputId": "f8eba9a1-bbdd-4bdc-aafd-5c27d430e2e5",
        "colab": {
          "base_uri": "https://localhost:8080/",
          "height": 267
        }
      },
      "cell_type": "code",
      "source": [
        "m = [0.5, 2.0]\n",
        "n = [0, 0.5]\n",
        "plt.plot(m,n, '--', color='black', linewidth=2.0)\n",
        "h0 = np.array([h[0,:]])\n",
        "h1 = np.array([h[1,:]])\n",
        "plt.plot(h0[q==1], h1[q==1], 'ro')\n",
        "plt.plot(h0[q==0], h1[q==0], 'bX')\n",
        "plt.axis([-0.25, 3.0, -0.25, 2.0])\n",
        "plt.axis('equal')\n",
        "plt.axhline(0, color='black', linewidth=1.0)\n",
        "plt.axvline(0, color='black', linewidth=1.0)\n",
        "plt.show()"
      ],
      "execution_count": 0,
      "outputs": [
        {
          "output_type": "display_data",
          "data": {
            "image/png": "[encoded data removed]",
            "text/plain": [
              "<Figure size 432x288 with 1 Axes>"
            ]
          },
          "metadata": {
            "tags": []
          }
        }
      ]
    }
  ]
}